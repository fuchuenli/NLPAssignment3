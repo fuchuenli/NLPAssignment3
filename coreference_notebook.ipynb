{
  "cells": [
    {
      "cell_type": "code",
      "source": [
        "from google.colab import drive\n",
        "drive.mount('/content/drive')"
      ],
      "metadata": {
        "colab": {
          "base_uri": "https://localhost:8080/"
        },
        "id": "9EF91yew5Czl",
        "outputId": "aeef7b38-ee97-4faa-a7ad-7c6d9a983720"
      },
      "execution_count": null,
      "outputs": [
        {
          "output_type": "stream",
          "name": "stdout",
          "text": [
            "Mounted at /content/drive\n"
          ]
        }
      ]
    },
    {
      "cell_type": "code",
      "execution_count": null,
      "metadata": {
        "colab": {
          "base_uri": "https://localhost:8080/"
        },
        "id": "zeJ-Coab4lwL",
        "outputId": "f4446880-b855-4d96-ef4b-438ec97fb2c9"
      },
      "outputs": [
        {
          "output_type": "stream",
          "name": "stdout",
          "text": [
            "Cloning into 'neuralcoref'...\n",
            "remote: Enumerating objects: 772, done.\u001b[K\n",
            "remote: Counting objects: 100% (24/24), done.\u001b[K\n",
            "remote: Compressing objects: 100% (16/16), done.\u001b[K\n",
            "remote: Total 772 (delta 10), reused 16 (delta 7), pack-reused 748\u001b[K\n",
            "Receiving objects: 100% (772/772), 67.85 MiB | 17.04 MiB/s, done.\n",
            "Resolving deltas: 100% (407/407), done.\n",
            "Looking in indexes: https://pypi.org/simple, https://us-python.pkg.dev/colab-wheels/public/simple/\n",
            "Collecting spacy<3.0.0,>=2.1.0\n",
            "  Downloading spacy-2.3.9-cp39-cp39-manylinux_2_17_x86_64.manylinux2014_x86_64.whl (4.9 MB)\n",
            "\u001b[2K     \u001b[90m━━━━━━━━━━━━━━━━━━━━━━━━━━━━━━━━━━━━━━━━\u001b[0m \u001b[32m4.9/4.9 MB\u001b[0m \u001b[31m87.9 MB/s\u001b[0m eta \u001b[36m0:00:00\u001b[0m\n",
            "\u001b[?25hRequirement already satisfied: cython>=0.25 in /usr/local/lib/python3.9/dist-packages (from -r /content/neuralcoref/requirements.txt (line 2)) (0.29.34)\n",
            "Requirement already satisfied: pytest in /usr/local/lib/python3.9/dist-packages (from -r /content/neuralcoref/requirements.txt (line 3)) (7.2.2)\n",
            "Collecting wasabi<1.1.0,>=0.4.0\n",
            "  Downloading wasabi-0.10.1-py3-none-any.whl (26 kB)\n",
            "Collecting catalogue<1.1.0,>=0.0.7\n",
            "  Downloading catalogue-1.0.2-py2.py3-none-any.whl (16 kB)\n",
            "Requirement already satisfied: blis<0.8.0,>=0.4.0 in /usr/local/lib/python3.9/dist-packages (from spacy<3.0.0,>=2.1.0->-r /content/neuralcoref/requirements.txt (line 1)) (0.7.9)\n",
            "Requirement already satisfied: setuptools in /usr/local/lib/python3.9/dist-packages (from spacy<3.0.0,>=2.1.0->-r /content/neuralcoref/requirements.txt (line 1)) (67.6.1)\n",
            "Requirement already satisfied: numpy>=1.15.0 in /usr/local/lib/python3.9/dist-packages (from spacy<3.0.0,>=2.1.0->-r /content/neuralcoref/requirements.txt (line 1)) (1.22.4)\n",
            "Requirement already satisfied: preshed<3.1.0,>=3.0.2 in /usr/local/lib/python3.9/dist-packages (from spacy<3.0.0,>=2.1.0->-r /content/neuralcoref/requirements.txt (line 1)) (3.0.8)\n",
            "Collecting plac<1.2.0,>=0.9.6\n",
            "  Downloading plac-1.1.3-py2.py3-none-any.whl (20 kB)\n",
            "Requirement already satisfied: murmurhash<1.1.0,>=0.28.0 in /usr/local/lib/python3.9/dist-packages (from spacy<3.0.0,>=2.1.0->-r /content/neuralcoref/requirements.txt (line 1)) (1.0.9)\n",
            "Collecting thinc<7.5.0,>=7.4.1\n",
            "  Downloading thinc-7.4.6-cp39-cp39-manylinux_2_17_x86_64.manylinux2014_x86_64.whl (1.1 MB)\n",
            "\u001b[2K     \u001b[90m━━━━━━━━━━━━━━━━━━━━━━━━━━━━━━━━━━━━━━━━\u001b[0m \u001b[32m1.1/1.1 MB\u001b[0m \u001b[31m76.2 MB/s\u001b[0m eta \u001b[36m0:00:00\u001b[0m\n",
            "\u001b[?25hRequirement already satisfied: cymem<2.1.0,>=2.0.2 in /usr/local/lib/python3.9/dist-packages (from spacy<3.0.0,>=2.1.0->-r /content/neuralcoref/requirements.txt (line 1)) (2.0.7)\n",
            "Collecting srsly<1.1.0,>=1.0.2\n",
            "  Downloading srsly-1.0.6-cp39-cp39-manylinux_2_17_x86_64.manylinux2014_x86_64.whl (209 kB)\n",
            "\u001b[2K     \u001b[90m━━━━━━━━━━━━━━━━━━━━━━━━━━━━━━━━━━━━━━\u001b[0m \u001b[32m209.2/209.2 KB\u001b[0m \u001b[31m26.6 MB/s\u001b[0m eta \u001b[36m0:00:00\u001b[0m\n",
            "\u001b[?25hRequirement already satisfied: requests<3.0.0,>=2.13.0 in /usr/local/lib/python3.9/dist-packages (from spacy<3.0.0,>=2.1.0->-r /content/neuralcoref/requirements.txt (line 1)) (2.27.1)\n",
            "Requirement already satisfied: tqdm<5.0.0,>=4.38.0 in /usr/local/lib/python3.9/dist-packages (from spacy<3.0.0,>=2.1.0->-r /content/neuralcoref/requirements.txt (line 1)) (4.65.0)\n",
            "Requirement already satisfied: tomli>=1.0.0 in /usr/local/lib/python3.9/dist-packages (from pytest->-r /content/neuralcoref/requirements.txt (line 3)) (2.0.1)\n",
            "Requirement already satisfied: attrs>=19.2.0 in /usr/local/lib/python3.9/dist-packages (from pytest->-r /content/neuralcoref/requirements.txt (line 3)) (22.2.0)\n",
            "Requirement already satisfied: pluggy<2.0,>=0.12 in /usr/local/lib/python3.9/dist-packages (from pytest->-r /content/neuralcoref/requirements.txt (line 3)) (1.0.0)\n",
            "Requirement already satisfied: exceptiongroup>=1.0.0rc8 in /usr/local/lib/python3.9/dist-packages (from pytest->-r /content/neuralcoref/requirements.txt (line 3)) (1.1.1)\n",
            "Requirement already satisfied: iniconfig in /usr/local/lib/python3.9/dist-packages (from pytest->-r /content/neuralcoref/requirements.txt (line 3)) (2.0.0)\n",
            "Requirement already satisfied: packaging in /usr/local/lib/python3.9/dist-packages (from pytest->-r /content/neuralcoref/requirements.txt (line 3)) (23.0)\n",
            "Requirement already satisfied: urllib3<1.27,>=1.21.1 in /usr/local/lib/python3.9/dist-packages (from requests<3.0.0,>=2.13.0->spacy<3.0.0,>=2.1.0->-r /content/neuralcoref/requirements.txt (line 1)) (1.26.15)\n",
            "Requirement already satisfied: certifi>=2017.4.17 in /usr/local/lib/python3.9/dist-packages (from requests<3.0.0,>=2.13.0->spacy<3.0.0,>=2.1.0->-r /content/neuralcoref/requirements.txt (line 1)) (2022.12.7)\n",
            "Requirement already satisfied: idna<4,>=2.5 in /usr/local/lib/python3.9/dist-packages (from requests<3.0.0,>=2.13.0->spacy<3.0.0,>=2.1.0->-r /content/neuralcoref/requirements.txt (line 1)) (3.4)\n",
            "Requirement already satisfied: charset-normalizer~=2.0.0 in /usr/local/lib/python3.9/dist-packages (from requests<3.0.0,>=2.13.0->spacy<3.0.0,>=2.1.0->-r /content/neuralcoref/requirements.txt (line 1)) (2.0.12)\n",
            "Installing collected packages: wasabi, plac, srsly, catalogue, thinc, spacy\n",
            "  Attempting uninstall: wasabi\n",
            "    Found existing installation: wasabi 1.1.1\n",
            "    Uninstalling wasabi-1.1.1:\n",
            "      Successfully uninstalled wasabi-1.1.1\n",
            "  Attempting uninstall: srsly\n",
            "    Found existing installation: srsly 2.4.6\n",
            "    Uninstalling srsly-2.4.6:\n",
            "      Successfully uninstalled srsly-2.4.6\n",
            "  Attempting uninstall: catalogue\n",
            "    Found existing installation: catalogue 2.0.8\n",
            "    Uninstalling catalogue-2.0.8:\n",
            "      Successfully uninstalled catalogue-2.0.8\n",
            "  Attempting uninstall: thinc\n",
            "    Found existing installation: thinc 8.1.9\n",
            "    Uninstalling thinc-8.1.9:\n",
            "      Successfully uninstalled thinc-8.1.9\n",
            "  Attempting uninstall: spacy\n",
            "    Found existing installation: spacy 3.5.1\n",
            "    Uninstalling spacy-3.5.1:\n",
            "      Successfully uninstalled spacy-3.5.1\n",
            "\u001b[31mERROR: pip's dependency resolver does not currently take into account all the packages that are installed. This behaviour is the source of the following dependency conflicts.\n",
            "en-core-web-sm 3.5.0 requires spacy<3.6.0,>=3.5.0, but you have spacy 2.3.9 which is incompatible.\n",
            "confection 0.0.4 requires srsly<3.0.0,>=2.4.0, but you have srsly 1.0.6 which is incompatible.\u001b[0m\u001b[31m\n",
            "\u001b[0mSuccessfully installed catalogue-1.0.2 plac-1.1.3 spacy-2.3.9 srsly-1.0.6 thinc-7.4.6 wasabi-0.10.1\n",
            "Looking in indexes: https://pypi.org/simple, https://us-python.pkg.dev/colab-wheels/public/simple/\n",
            "Obtaining file:///content/neuralcoref\n",
            "  Preparing metadata (setup.py) ... \u001b[?25l\u001b[?25hdone\n",
            "Requirement already satisfied: numpy>=1.15.0 in /usr/local/lib/python3.9/dist-packages (from neuralcoref==4.0) (1.22.4)\n",
            "Collecting boto3\n",
            "  Downloading boto3-1.26.109-py3-none-any.whl (135 kB)\n",
            "\u001b[2K     \u001b[90m━━━━━━━━━━━━━━━━━━━━━━━━━━━━━━━━━━━━━━\u001b[0m \u001b[32m135.6/135.6 KB\u001b[0m \u001b[31m15.4 MB/s\u001b[0m eta \u001b[36m0:00:00\u001b[0m\n",
            "\u001b[?25hRequirement already satisfied: requests<3.0.0,>=2.13.0 in /usr/local/lib/python3.9/dist-packages (from neuralcoref==4.0) (2.27.1)\n",
            "Requirement already satisfied: spacy<3.0.0,>=2.1.0 in /usr/local/lib/python3.9/dist-packages (from neuralcoref==4.0) (2.3.9)\n",
            "Requirement already satisfied: charset-normalizer~=2.0.0 in /usr/local/lib/python3.9/dist-packages (from requests<3.0.0,>=2.13.0->neuralcoref==4.0) (2.0.12)\n",
            "Requirement already satisfied: certifi>=2017.4.17 in /usr/local/lib/python3.9/dist-packages (from requests<3.0.0,>=2.13.0->neuralcoref==4.0) (2022.12.7)\n",
            "Requirement already satisfied: urllib3<1.27,>=1.21.1 in /usr/local/lib/python3.9/dist-packages (from requests<3.0.0,>=2.13.0->neuralcoref==4.0) (1.26.15)\n",
            "Requirement already satisfied: idna<4,>=2.5 in /usr/local/lib/python3.9/dist-packages (from requests<3.0.0,>=2.13.0->neuralcoref==4.0) (3.4)\n",
            "Requirement already satisfied: plac<1.2.0,>=0.9.6 in /usr/local/lib/python3.9/dist-packages (from spacy<3.0.0,>=2.1.0->neuralcoref==4.0) (1.1.3)\n",
            "Requirement already satisfied: tqdm<5.0.0,>=4.38.0 in /usr/local/lib/python3.9/dist-packages (from spacy<3.0.0,>=2.1.0->neuralcoref==4.0) (4.65.0)\n",
            "Requirement already satisfied: thinc<7.5.0,>=7.4.1 in /usr/local/lib/python3.9/dist-packages (from spacy<3.0.0,>=2.1.0->neuralcoref==4.0) (7.4.6)\n",
            "Requirement already satisfied: wasabi<1.1.0,>=0.4.0 in /usr/local/lib/python3.9/dist-packages (from spacy<3.0.0,>=2.1.0->neuralcoref==4.0) (0.10.1)\n",
            "Requirement already satisfied: murmurhash<1.1.0,>=0.28.0 in /usr/local/lib/python3.9/dist-packages (from spacy<3.0.0,>=2.1.0->neuralcoref==4.0) (1.0.9)\n",
            "Requirement already satisfied: setuptools in /usr/local/lib/python3.9/dist-packages (from spacy<3.0.0,>=2.1.0->neuralcoref==4.0) (67.6.1)\n",
            "Requirement already satisfied: catalogue<1.1.0,>=0.0.7 in /usr/local/lib/python3.9/dist-packages (from spacy<3.0.0,>=2.1.0->neuralcoref==4.0) (1.0.2)\n",
            "Requirement already satisfied: cymem<2.1.0,>=2.0.2 in /usr/local/lib/python3.9/dist-packages (from spacy<3.0.0,>=2.1.0->neuralcoref==4.0) (2.0.7)\n",
            "Requirement already satisfied: preshed<3.1.0,>=3.0.2 in /usr/local/lib/python3.9/dist-packages (from spacy<3.0.0,>=2.1.0->neuralcoref==4.0) (3.0.8)\n",
            "Requirement already satisfied: blis<0.8.0,>=0.4.0 in /usr/local/lib/python3.9/dist-packages (from spacy<3.0.0,>=2.1.0->neuralcoref==4.0) (0.7.9)\n",
            "Requirement already satisfied: srsly<1.1.0,>=1.0.2 in /usr/local/lib/python3.9/dist-packages (from spacy<3.0.0,>=2.1.0->neuralcoref==4.0) (1.0.6)\n",
            "Collecting botocore<1.30.0,>=1.29.109\n",
            "  Downloading botocore-1.29.109-py3-none-any.whl (10.6 MB)\n",
            "\u001b[2K     \u001b[90m━━━━━━━━━━━━━━━━━━━━━━━━━━━━━━━━━━━━━━━\u001b[0m \u001b[32m10.6/10.6 MB\u001b[0m \u001b[31m106.3 MB/s\u001b[0m eta \u001b[36m0:00:00\u001b[0m\n",
            "\u001b[?25hCollecting jmespath<2.0.0,>=0.7.1\n",
            "  Downloading jmespath-1.0.1-py3-none-any.whl (20 kB)\n",
            "Collecting s3transfer<0.7.0,>=0.6.0\n",
            "  Downloading s3transfer-0.6.0-py3-none-any.whl (79 kB)\n",
            "\u001b[2K     \u001b[90m━━━━━━━━━━━━━━━━━━━━━━━━━━━━━━━━━━━━━━━━\u001b[0m \u001b[32m79.6/79.6 KB\u001b[0m \u001b[31m6.0 MB/s\u001b[0m eta \u001b[36m0:00:00\u001b[0m\n",
            "\u001b[?25hRequirement already satisfied: python-dateutil<3.0.0,>=2.1 in /usr/local/lib/python3.9/dist-packages (from botocore<1.30.0,>=1.29.109->boto3->neuralcoref==4.0) (2.8.2)\n",
            "Requirement already satisfied: six>=1.5 in /usr/local/lib/python3.9/dist-packages (from python-dateutil<3.0.0,>=2.1->botocore<1.30.0,>=1.29.109->boto3->neuralcoref==4.0) (1.16.0)\n",
            "Installing collected packages: jmespath, botocore, s3transfer, boto3, neuralcoref\n",
            "  Running setup.py develop for neuralcoref\n",
            "Successfully installed boto3-1.26.109 botocore-1.29.109 jmespath-1.0.1 neuralcoref-4.0 s3transfer-0.6.0\n"
          ]
        }
      ],
      "source": [
        "# Install neuralcoref from source\n",
        "# pip installation is not working for me \n",
        "!git clone https://github.com/huggingface/neuralcoref.git\n",
        "!pip install -r \"/content/neuralcoref/requirements.txt\"\n",
        "!pip install -e \"/content/neuralcoref\""
      ]
    },
    {
      "cell_type": "code",
      "execution_count": null,
      "metadata": {
        "colab": {
          "base_uri": "https://localhost:8080/"
        },
        "id": "1IodyM_L4lwN",
        "outputId": "43a12fca-88a6-4ee7-c607-e8b55c36c1df"
      },
      "outputs": [
        {
          "output_type": "stream",
          "name": "stdout",
          "text": [
            "Found existing installation: spacy 2.3.9\n",
            "Uninstalling spacy-2.3.9:\n",
            "  Successfully uninstalled spacy-2.3.9\n",
            "Looking in indexes: https://pypi.org/simple, https://us-python.pkg.dev/colab-wheels/public/simple/\n",
            "Collecting spacy==2.3.9\n",
            "  Using cached spacy-2.3.9-cp39-cp39-manylinux_2_17_x86_64.manylinux2014_x86_64.whl (4.9 MB)\n",
            "Requirement already satisfied: preshed<3.1.0,>=3.0.2 in /usr/local/lib/python3.9/dist-packages (from spacy==2.3.9) (3.0.8)\n",
            "Requirement already satisfied: srsly<1.1.0,>=1.0.2 in /usr/local/lib/python3.9/dist-packages (from spacy==2.3.9) (1.0.6)\n",
            "Requirement already satisfied: requests<3.0.0,>=2.13.0 in /usr/local/lib/python3.9/dist-packages (from spacy==2.3.9) (2.27.1)\n",
            "Requirement already satisfied: catalogue<1.1.0,>=0.0.7 in /usr/local/lib/python3.9/dist-packages (from spacy==2.3.9) (1.0.2)\n",
            "Requirement already satisfied: blis<0.8.0,>=0.4.0 in /usr/local/lib/python3.9/dist-packages (from spacy==2.3.9) (0.7.9)\n",
            "Requirement already satisfied: plac<1.2.0,>=0.9.6 in /usr/local/lib/python3.9/dist-packages (from spacy==2.3.9) (1.1.3)\n",
            "Requirement already satisfied: murmurhash<1.1.0,>=0.28.0 in /usr/local/lib/python3.9/dist-packages (from spacy==2.3.9) (1.0.9)\n",
            "Requirement already satisfied: wasabi<1.1.0,>=0.4.0 in /usr/local/lib/python3.9/dist-packages (from spacy==2.3.9) (0.10.1)\n",
            "Requirement already satisfied: tqdm<5.0.0,>=4.38.0 in /usr/local/lib/python3.9/dist-packages (from spacy==2.3.9) (4.65.0)\n",
            "Requirement already satisfied: thinc<7.5.0,>=7.4.1 in /usr/local/lib/python3.9/dist-packages (from spacy==2.3.9) (7.4.6)\n",
            "Requirement already satisfied: setuptools in /usr/local/lib/python3.9/dist-packages (from spacy==2.3.9) (67.6.1)\n",
            "Requirement already satisfied: numpy>=1.15.0 in /usr/local/lib/python3.9/dist-packages (from spacy==2.3.9) (1.22.4)\n",
            "Requirement already satisfied: cymem<2.1.0,>=2.0.2 in /usr/local/lib/python3.9/dist-packages (from spacy==2.3.9) (2.0.7)\n",
            "Requirement already satisfied: urllib3<1.27,>=1.21.1 in /usr/local/lib/python3.9/dist-packages (from requests<3.0.0,>=2.13.0->spacy==2.3.9) (1.26.15)\n",
            "Requirement already satisfied: certifi>=2017.4.17 in /usr/local/lib/python3.9/dist-packages (from requests<3.0.0,>=2.13.0->spacy==2.3.9) (2022.12.7)\n",
            "Requirement already satisfied: charset-normalizer~=2.0.0 in /usr/local/lib/python3.9/dist-packages (from requests<3.0.0,>=2.13.0->spacy==2.3.9) (2.0.12)\n",
            "Requirement already satisfied: idna<4,>=2.5 in /usr/local/lib/python3.9/dist-packages (from requests<3.0.0,>=2.13.0->spacy==2.3.9) (3.4)\n",
            "Installing collected packages: spacy\n",
            "\u001b[31mERROR: pip's dependency resolver does not currently take into account all the packages that are installed. This behaviour is the source of the following dependency conflicts.\n",
            "en-core-web-sm 3.5.0 requires spacy<3.6.0,>=3.5.0, but you have spacy 2.3.9 which is incompatible.\u001b[0m\u001b[31m\n",
            "\u001b[0mSuccessfully installed spacy-2.3.9\n"
          ]
        }
      ],
      "source": [
        "# Downgrade Spacy to 2.3.9 Version first\n",
        "# The coreference tool We are using is not well-maintained and only support Spcay < 3.0.0\n",
        "!pip uninstall spacy -y\n",
        "!pip install spacy==2.3.9"
      ]
    },
    {
      "cell_type": "code",
      "execution_count": null,
      "metadata": {
        "id": "HkGflTej4lwN"
      },
      "outputs": [],
      "source": [
        "# Restart your kernel at this point"
      ]
    },
    {
      "cell_type": "code",
      "execution_count": null,
      "metadata": {
        "colab": {
          "base_uri": "https://localhost:8080/"
        },
        "id": "aq73mGyw4lwN",
        "outputId": "b0dd48d6-531c-4586-caf5-8d38fc148154"
      },
      "outputs": [
        {
          "output_type": "stream",
          "name": "stderr",
          "text": [
            "100%|██████████| 40155833/40155833 [00:04<00:00, 8669062.94B/s] \n"
          ]
        },
        {
          "output_type": "stream",
          "name": "stdout",
          "text": [
            "2.3.9\n",
            "\u001b[38;5;2m✔ Download and installation successful\u001b[0m\n",
            "You can now load the model via spacy.load('en_core_web_sm')\n"
          ]
        }
      ],
      "source": [
        "# See spacy and nerualcoref is properly installed\n",
        "import spacy, neuralcoref\n",
        "# Check the spcay version\n",
        "print(spacy.__version__)\n",
        "# Download the \"en_core_web_sm\"(you must download again because of the version)\n",
        "spacy.cli.download(\"en_core_web_sm\")"
      ]
    },
    {
      "cell_type": "code",
      "execution_count": null,
      "metadata": {
        "colab": {
          "base_uri": "https://localhost:8080/",
          "height": 337
        },
        "id": "uQjXAmnQ4lwN",
        "outputId": "88a9abc8-c72c-4221-9db4-b87d38d55003"
      },
      "outputs": [
        {
          "output_type": "execute_result",
          "data": {
            "text/plain": [
              "   cord_uid                                              title  \\\n",
              "0  bjvyx8u1  Knowledge and Attitude towards COVID-19 Vaccin...   \n",
              "1  vfo59saj  Improving Quality and Efficiency in Pediatric ...   \n",
              "2  vvr5x5cn  A cross-country comparison of user experience ...   \n",
              "3  be43zmo6  ddPCR Reveals SARS-CoV-2 Variants in Florida W...   \n",
              "4  drejl99k  A Serological Survey of Infectious Disease in ...   \n",
              "\n",
              "                                            abstract  \\\n",
              "0  BACKGROUND: It is imperative to ensure optimal...   \n",
              "1  INTRODUCTION: Many children with behavioral he...   \n",
              "2  Autonomous solutions for transportation are em...   \n",
              "3  Wastewater was screened for the presence of fu...   \n",
              "4  BACKGROUND: Gray wolves (Canis lupus) were rei...   \n",
              "\n",
              "                                             authors publish_time  \\\n",
              "0  Aklil, Mastewal Belayneh; Temesgan, Wubedle Ze...   2022-05-03   \n",
              "1  Emerson, Beth L.; Setzer, Erika; Blake, Eileen...   2022-01-21   \n",
              "2  Bellone, Mauro; Ismailogullari, Azat; Kantala,...   2021-03-08   \n",
              "3  Gering, E.; Colbert, J.; Schmedes, S.; Duncan,...   2021-04-13   \n",
              "4  Almberg, Emily S.; Mech, L. David; Smith, Doug...   2009-09-16   \n",
              "\n",
              "                                              corpus  \n",
              "0  Coronavirus disease 2019 (COVID-19) is a new s...  \n",
              "1  Before initiating this work, our pediatric eme...  \n",
              "2  This paper analyses Mobility as a Service (Maa...  \n",
              "3  Several SARS-CoV-2 variants of concern have be...  \n",
              "4  Several high-mortality disease outbreaks among...  "
            ],
            "text/html": [
              "\n",
              "  <div id=\"df-5bc32572-799d-4e7c-988d-168e5d8a2d3c\">\n",
              "    <div class=\"colab-df-container\">\n",
              "      <div>\n",
              "<style scoped>\n",
              "    .dataframe tbody tr th:only-of-type {\n",
              "        vertical-align: middle;\n",
              "    }\n",
              "\n",
              "    .dataframe tbody tr th {\n",
              "        vertical-align: top;\n",
              "    }\n",
              "\n",
              "    .dataframe thead th {\n",
              "        text-align: right;\n",
              "    }\n",
              "</style>\n",
              "<table border=\"1\" class=\"dataframe\">\n",
              "  <thead>\n",
              "    <tr style=\"text-align: right;\">\n",
              "      <th></th>\n",
              "      <th>cord_uid</th>\n",
              "      <th>title</th>\n",
              "      <th>abstract</th>\n",
              "      <th>authors</th>\n",
              "      <th>publish_time</th>\n",
              "      <th>corpus</th>\n",
              "    </tr>\n",
              "  </thead>\n",
              "  <tbody>\n",
              "    <tr>\n",
              "      <th>0</th>\n",
              "      <td>bjvyx8u1</td>\n",
              "      <td>Knowledge and Attitude towards COVID-19 Vaccin...</td>\n",
              "      <td>BACKGROUND: It is imperative to ensure optimal...</td>\n",
              "      <td>Aklil, Mastewal Belayneh; Temesgan, Wubedle Ze...</td>\n",
              "      <td>2022-05-03</td>\n",
              "      <td>Coronavirus disease 2019 (COVID-19) is a new s...</td>\n",
              "    </tr>\n",
              "    <tr>\n",
              "      <th>1</th>\n",
              "      <td>vfo59saj</td>\n",
              "      <td>Improving Quality and Efficiency in Pediatric ...</td>\n",
              "      <td>INTRODUCTION: Many children with behavioral he...</td>\n",
              "      <td>Emerson, Beth L.; Setzer, Erika; Blake, Eileen...</td>\n",
              "      <td>2022-01-21</td>\n",
              "      <td>Before initiating this work, our pediatric eme...</td>\n",
              "    </tr>\n",
              "    <tr>\n",
              "      <th>2</th>\n",
              "      <td>vvr5x5cn</td>\n",
              "      <td>A cross-country comparison of user experience ...</td>\n",
              "      <td>Autonomous solutions for transportation are em...</td>\n",
              "      <td>Bellone, Mauro; Ismailogullari, Azat; Kantala,...</td>\n",
              "      <td>2021-03-08</td>\n",
              "      <td>This paper analyses Mobility as a Service (Maa...</td>\n",
              "    </tr>\n",
              "    <tr>\n",
              "      <th>3</th>\n",
              "      <td>be43zmo6</td>\n",
              "      <td>ddPCR Reveals SARS-CoV-2 Variants in Florida W...</td>\n",
              "      <td>Wastewater was screened for the presence of fu...</td>\n",
              "      <td>Gering, E.; Colbert, J.; Schmedes, S.; Duncan,...</td>\n",
              "      <td>2021-04-13</td>\n",
              "      <td>Several SARS-CoV-2 variants of concern have be...</td>\n",
              "    </tr>\n",
              "    <tr>\n",
              "      <th>4</th>\n",
              "      <td>drejl99k</td>\n",
              "      <td>A Serological Survey of Infectious Disease in ...</td>\n",
              "      <td>BACKGROUND: Gray wolves (Canis lupus) were rei...</td>\n",
              "      <td>Almberg, Emily S.; Mech, L. David; Smith, Doug...</td>\n",
              "      <td>2009-09-16</td>\n",
              "      <td>Several high-mortality disease outbreaks among...</td>\n",
              "    </tr>\n",
              "  </tbody>\n",
              "</table>\n",
              "</div>\n",
              "      <button class=\"colab-df-convert\" onclick=\"convertToInteractive('df-5bc32572-799d-4e7c-988d-168e5d8a2d3c')\"\n",
              "              title=\"Convert this dataframe to an interactive table.\"\n",
              "              style=\"display:none;\">\n",
              "        \n",
              "  <svg xmlns=\"http://www.w3.org/2000/svg\" height=\"24px\"viewBox=\"0 0 24 24\"\n",
              "       width=\"24px\">\n",
              "    <path d=\"M0 0h24v24H0V0z\" fill=\"none\"/>\n",
              "    <path d=\"M18.56 5.44l.94 2.06.94-2.06 2.06-.94-2.06-.94-.94-2.06-.94 2.06-2.06.94zm-11 1L8.5 8.5l.94-2.06 2.06-.94-2.06-.94L8.5 2.5l-.94 2.06-2.06.94zm10 10l.94 2.06.94-2.06 2.06-.94-2.06-.94-.94-2.06-.94 2.06-2.06.94z\"/><path d=\"M17.41 7.96l-1.37-1.37c-.4-.4-.92-.59-1.43-.59-.52 0-1.04.2-1.43.59L10.3 9.45l-7.72 7.72c-.78.78-.78 2.05 0 2.83L4 21.41c.39.39.9.59 1.41.59.51 0 1.02-.2 1.41-.59l7.78-7.78 2.81-2.81c.8-.78.8-2.07 0-2.86zM5.41 20L4 18.59l7.72-7.72 1.47 1.35L5.41 20z\"/>\n",
              "  </svg>\n",
              "      </button>\n",
              "      \n",
              "  <style>\n",
              "    .colab-df-container {\n",
              "      display:flex;\n",
              "      flex-wrap:wrap;\n",
              "      gap: 12px;\n",
              "    }\n",
              "\n",
              "    .colab-df-convert {\n",
              "      background-color: #E8F0FE;\n",
              "      border: none;\n",
              "      border-radius: 50%;\n",
              "      cursor: pointer;\n",
              "      display: none;\n",
              "      fill: #1967D2;\n",
              "      height: 32px;\n",
              "      padding: 0 0 0 0;\n",
              "      width: 32px;\n",
              "    }\n",
              "\n",
              "    .colab-df-convert:hover {\n",
              "      background-color: #E2EBFA;\n",
              "      box-shadow: 0px 1px 2px rgba(60, 64, 67, 0.3), 0px 1px 3px 1px rgba(60, 64, 67, 0.15);\n",
              "      fill: #174EA6;\n",
              "    }\n",
              "\n",
              "    [theme=dark] .colab-df-convert {\n",
              "      background-color: #3B4455;\n",
              "      fill: #D2E3FC;\n",
              "    }\n",
              "\n",
              "    [theme=dark] .colab-df-convert:hover {\n",
              "      background-color: #434B5C;\n",
              "      box-shadow: 0px 1px 3px 1px rgba(0, 0, 0, 0.15);\n",
              "      filter: drop-shadow(0px 1px 2px rgba(0, 0, 0, 0.3));\n",
              "      fill: #FFFFFF;\n",
              "    }\n",
              "  </style>\n",
              "\n",
              "      <script>\n",
              "        const buttonEl =\n",
              "          document.querySelector('#df-5bc32572-799d-4e7c-988d-168e5d8a2d3c button.colab-df-convert');\n",
              "        buttonEl.style.display =\n",
              "          google.colab.kernel.accessAllowed ? 'block' : 'none';\n",
              "\n",
              "        async function convertToInteractive(key) {\n",
              "          const element = document.querySelector('#df-5bc32572-799d-4e7c-988d-168e5d8a2d3c');\n",
              "          const dataTable =\n",
              "            await google.colab.kernel.invokeFunction('convertToInteractive',\n",
              "                                                     [key], {});\n",
              "          if (!dataTable) return;\n",
              "\n",
              "          const docLinkHtml = 'Like what you see? Visit the ' +\n",
              "            '<a target=\"_blank\" href=https://colab.research.google.com/notebooks/data_table.ipynb>data table notebook</a>'\n",
              "            + ' to learn more about interactive tables.';\n",
              "          element.innerHTML = '';\n",
              "          dataTable['output_type'] = 'display_data';\n",
              "          await google.colab.output.renderOutput(dataTable, element);\n",
              "          const docLink = document.createElement('div');\n",
              "          docLink.innerHTML = docLinkHtml;\n",
              "          element.appendChild(docLink);\n",
              "        }\n",
              "      </script>\n",
              "    </div>\n",
              "  </div>\n",
              "  "
            ]
          },
          "metadata": {},
          "execution_count": 2
        }
      ],
      "source": [
        "# Load the dataset\n",
        "import pandas as pd\n",
        "dataset = pd.read_csv(\"/content/drive/MyDrive/Corpus_10k.csv\")\n",
        "dataset.head(5)"
      ]
    },
    {
      "cell_type": "code",
      "execution_count": null,
      "metadata": {
        "id": "sw-JVOeP4lwO"
      },
      "outputs": [],
      "source": [
        "# Filter out too long, too short and problematic corpus\n",
        "too_long = [index for index, text in enumerate(dataset[\"corpus\"]) if type(text) != str or len(text) < 100 or len(text) > 100000]\n",
        "dataset = dataset.loc[~dataset.index.isin(too_long)].reset_index(drop=True)"
      ]
    },
    {
      "cell_type": "code",
      "execution_count": null,
      "metadata": {
        "id": "U0cXEz2a4lwO"
      },
      "outputs": [],
      "source": [
        "# A function to removing IEEE, APA in-text references, URLs and non-english characters(but keeping punctuation)\n",
        "import re\n",
        "def data_cleaning(corpus):\n",
        "    pattern = r\"\\[\\d+(,\\s*\\d+)*\\]|\\(([A-Za-z]+( [A-Za-z]+)+)\\., [0-9]+\\)|http://\\S+|www.\\S+|[^\\x00-\\x7F]+\"\n",
        "    clean_corpus = re.sub(pattern, \"\", corpus)\n",
        "    return clean_corpus\n",
        "\n",
        "dataset[\"corpus\"] = dataset[\"corpus\"].apply(lambda x: data_cleaning(x))"
      ]
    },
    {
      "cell_type": "code",
      "execution_count": null,
      "metadata": {
        "id": "6HrrKNtK4lwO"
      },
      "outputs": [],
      "source": [
        "# A function to replace the coreference words(e.g. it, he, she) to the real entity\n",
        "def coreference(sentence):\n",
        "    coref_text = []\n",
        "    for token in sentence:\n",
        "        if token._.in_coref:\n",
        "            main_mention = token._.coref_clusters[0].main\n",
        "            if not coref_text or coref_text[-1] not in main_mention.text:\n",
        "                coref_text.append(main_mention.text)\n",
        "        else:\n",
        "            coref_text.append(token.text_with_ws)\n",
        "    coref_text = \"\".join(coref_text)\n",
        "    return coref_text"
      ]
    },
    {
      "cell_type": "code",
      "execution_count": null,
      "metadata": {
        "colab": {
          "base_uri": "https://localhost:8080/"
        },
        "id": "TDfPqGId4lwO",
        "outputId": "7439a4ee-53a3-4880-d96c-13a148cffc66"
      },
      "outputs": [
        {
          "metadata": {
            "tags": null
          },
          "name": "stdout",
          "output_type": "stream",
          "text": [
            "Pipeline components included:  ['tagger', 'parser', 'ner', 'neuralcoref']\n"
          ]
        },
        {
          "output_type": "stream",
          "name": "stderr",
          "text": [
            "100%|██████████| 5786/5786 [10:28:59<00:00,  6.52s/it]\n"
          ]
        }
      ],
      "source": [
        "# Load the language model\n",
        "from tqdm import tqdm\n",
        "nlp = spacy.load(\"en_core_web_sm\")\n",
        "# Add neuralcoref into the pipline\n",
        "neuralcoref.add_to_pipe(nlp)\n",
        "print('Pipeline components included: ', nlp.pipe_names)\n",
        "# Process the corpus with the pipeline(truncated parts by parts)\n",
        "corpus = dataset[\"corpus\"].tolist()[4000:]\n",
        "for index, corp in enumerate(tqdm(corpus)):\n",
        "    index += 4000\n",
        "    corpus_nlp = nlp(corp)\n",
        "    with open(f\"Coreference_4000_end/corpus_coref_{index}.txt\", \"w\") as f:\n",
        "        f.write(coreference(corpus_nlp))"
      ]
    }
  ],
  "metadata": {
    "language_info": {
      "name": "python"
    },
    "orig_nbformat": 4,
    "colab": {
      "provenance": [],
      "machine_shape": "hm"
    },
    "kernelspec": {
      "name": "python3",
      "display_name": "Python 3"
    },
    "gpuClass": "standard",
    "accelerator": "GPU"
  },
  "nbformat": 4,
  "nbformat_minor": 0
}