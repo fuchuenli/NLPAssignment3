{
  "nbformat": 4,
  "nbformat_minor": 0,
  "metadata": {
    "colab": {
      "provenance": [],
      "machine_shape": "hm"
    },
    "kernelspec": {
      "name": "python3",
      "display_name": "Python 3"
    },
    "language_info": {
      "name": "python"
    },
    "accelerator": "GPU",
    "gpuClass": "standard"
  },
  "cells": [
    {
      "cell_type": "markdown",
      "source": [
        "# BERT models comparison"
      ],
      "metadata": {
        "id": "QlG8geWXz5aI"
      }
    },
    {
      "cell_type": "code",
      "source": [
        "!pip install transformers datasets evaluate"
      ],
      "metadata": {
        "colab": {
          "base_uri": "https://localhost:8080/"
        },
        "id": "Tm-tvpHdwZtx",
        "outputId": "105b3008-657c-4b1d-d6ef-da6b0cdab509"
      },
      "execution_count": null,
      "outputs": [
        {
          "output_type": "stream",
          "name": "stdout",
          "text": [
            "Looking in indexes: https://pypi.org/simple, https://us-python.pkg.dev/colab-wheels/public/simple/\n",
            "Collecting transformers\n",
            "  Downloading transformers-4.28.1-py3-none-any.whl (7.0 MB)\n",
            "\u001b[2K     \u001b[90m━━━━━━━━━━━━━━━━━━━━━━━━━━━━━━━━━━━━━━━━\u001b[0m \u001b[32m7.0/7.0 MB\u001b[0m \u001b[31m69.4 MB/s\u001b[0m eta \u001b[36m0:00:00\u001b[0m\n",
            "\u001b[?25hCollecting datasets\n",
            "  Downloading datasets-2.11.0-py3-none-any.whl (468 kB)\n",
            "\u001b[2K     \u001b[90m━━━━━━━━━━━━━━━━━━━━━━━━━━━━━━━━━━━━━━\u001b[0m \u001b[32m468.7/468.7 kB\u001b[0m \u001b[31m43.3 MB/s\u001b[0m eta \u001b[36m0:00:00\u001b[0m\n",
            "\u001b[?25hCollecting evaluate\n",
            "  Downloading evaluate-0.4.0-py3-none-any.whl (81 kB)\n",
            "\u001b[2K     \u001b[90m━━━━━━━━━━━━━━━━━━━━━━━━━━━━━━━━━━━━━━━━\u001b[0m \u001b[32m81.4/81.4 kB\u001b[0m \u001b[31m10.8 MB/s\u001b[0m eta \u001b[36m0:00:00\u001b[0m\n",
            "\u001b[?25hRequirement already satisfied: requests in /usr/local/lib/python3.9/dist-packages (from transformers) (2.27.1)\n",
            "Requirement already satisfied: packaging>=20.0 in /usr/local/lib/python3.9/dist-packages (from transformers) (23.0)\n",
            "Requirement already satisfied: filelock in /usr/local/lib/python3.9/dist-packages (from transformers) (3.11.0)\n",
            "Requirement already satisfied: pyyaml>=5.1 in /usr/local/lib/python3.9/dist-packages (from transformers) (6.0)\n",
            "Requirement already satisfied: numpy>=1.17 in /usr/local/lib/python3.9/dist-packages (from transformers) (1.22.4)\n",
            "Requirement already satisfied: tqdm>=4.27 in /usr/local/lib/python3.9/dist-packages (from transformers) (4.65.0)\n",
            "Requirement already satisfied: regex!=2019.12.17 in /usr/local/lib/python3.9/dist-packages (from transformers) (2022.10.31)\n",
            "Collecting tokenizers!=0.11.3,<0.14,>=0.11.1\n",
            "  Downloading tokenizers-0.13.3-cp39-cp39-manylinux_2_17_x86_64.manylinux2014_x86_64.whl (7.8 MB)\n",
            "\u001b[2K     \u001b[90m━━━━━━━━━━━━━━━━━━━━━━━━━━━━━━━━━━━━━━━━\u001b[0m \u001b[32m7.8/7.8 MB\u001b[0m \u001b[31m108.1 MB/s\u001b[0m eta \u001b[36m0:00:00\u001b[0m\n",
            "\u001b[?25hCollecting huggingface-hub<1.0,>=0.11.0\n",
            "  Downloading huggingface_hub-0.13.4-py3-none-any.whl (200 kB)\n",
            "\u001b[2K     \u001b[90m━━━━━━━━━━━━━━━━━━━━━━━━━━━━━━━━━━━━━━\u001b[0m \u001b[32m200.1/200.1 kB\u001b[0m \u001b[31m24.8 MB/s\u001b[0m eta \u001b[36m0:00:00\u001b[0m\n",
            "\u001b[?25hCollecting dill<0.3.7,>=0.3.0\n",
            "  Downloading dill-0.3.6-py3-none-any.whl (110 kB)\n",
            "\u001b[2K     \u001b[90m━━━━━━━━━━━━━━━━━━━━━━━━━━━━━━━━━━━━━━\u001b[0m \u001b[32m110.5/110.5 kB\u001b[0m \u001b[31m14.4 MB/s\u001b[0m eta \u001b[36m0:00:00\u001b[0m\n",
            "\u001b[?25hCollecting responses<0.19\n",
            "  Downloading responses-0.18.0-py3-none-any.whl (38 kB)\n",
            "Requirement already satisfied: pandas in /usr/local/lib/python3.9/dist-packages (from datasets) (1.5.3)\n",
            "Collecting aiohttp\n",
            "  Downloading aiohttp-3.8.4-cp39-cp39-manylinux_2_17_x86_64.manylinux2014_x86_64.whl (1.0 MB)\n",
            "\u001b[2K     \u001b[90m━━━━━━━━━━━━━━━━━━━━━━━━━━━━━━━━━━━━━━━━\u001b[0m \u001b[32m1.0/1.0 MB\u001b[0m \u001b[31m47.4 MB/s\u001b[0m eta \u001b[36m0:00:00\u001b[0m\n",
            "\u001b[?25hRequirement already satisfied: pyarrow>=8.0.0 in /usr/local/lib/python3.9/dist-packages (from datasets) (9.0.0)\n",
            "Collecting xxhash\n",
            "  Downloading xxhash-3.2.0-cp39-cp39-manylinux_2_17_x86_64.manylinux2014_x86_64.whl (212 kB)\n",
            "\u001b[2K     \u001b[90m━━━━━━━━━━━━━━━━━━━━━━━━━━━━━━━━━━━━━━\u001b[0m \u001b[32m212.2/212.2 kB\u001b[0m \u001b[31m22.0 MB/s\u001b[0m eta \u001b[36m0:00:00\u001b[0m\n",
            "\u001b[?25hCollecting multiprocess\n",
            "  Downloading multiprocess-0.70.14-py39-none-any.whl (132 kB)\n",
            "\u001b[2K     \u001b[90m━━━━━━━━━━━━━━━━━━━━━━━━━━━━━━━━━━━━━━\u001b[0m \u001b[32m132.9/132.9 kB\u001b[0m \u001b[31m17.0 MB/s\u001b[0m eta \u001b[36m0:00:00\u001b[0m\n",
            "\u001b[?25hRequirement already satisfied: fsspec[http]>=2021.11.1 in /usr/local/lib/python3.9/dist-packages (from datasets) (2023.4.0)\n",
            "Collecting yarl<2.0,>=1.0\n",
            "  Downloading yarl-1.8.2-cp39-cp39-manylinux_2_17_x86_64.manylinux2014_x86_64.whl (264 kB)\n",
            "\u001b[2K     \u001b[90m━━━━━━━━━━━━━━━━━━━━━━━━━━━━━━━━━━━━━━\u001b[0m \u001b[32m264.6/264.6 kB\u001b[0m \u001b[31m34.0 MB/s\u001b[0m eta \u001b[36m0:00:00\u001b[0m\n",
            "\u001b[?25hCollecting multidict<7.0,>=4.5\n",
            "  Downloading multidict-6.0.4-cp39-cp39-manylinux_2_17_x86_64.manylinux2014_x86_64.whl (114 kB)\n",
            "\u001b[2K     \u001b[90m━━━━━━━━━━━━━━━━━━━━━━━━━━━━━━━━━━━━━━\u001b[0m \u001b[32m114.2/114.2 kB\u001b[0m \u001b[31m14.1 MB/s\u001b[0m eta \u001b[36m0:00:00\u001b[0m\n",
            "\u001b[?25hRequirement already satisfied: attrs>=17.3.0 in /usr/local/lib/python3.9/dist-packages (from aiohttp->datasets) (22.2.0)\n",
            "Collecting aiosignal>=1.1.2\n",
            "  Downloading aiosignal-1.3.1-py3-none-any.whl (7.6 kB)\n",
            "Requirement already satisfied: charset-normalizer<4.0,>=2.0 in /usr/local/lib/python3.9/dist-packages (from aiohttp->datasets) (2.0.12)\n",
            "Collecting frozenlist>=1.1.1\n",
            "  Downloading frozenlist-1.3.3-cp39-cp39-manylinux_2_5_x86_64.manylinux1_x86_64.manylinux_2_17_x86_64.manylinux2014_x86_64.whl (158 kB)\n",
            "\u001b[2K     \u001b[90m━━━━━━━━━━━━━━━━━━━━━━━━━━━━━━━━━━━━━━\u001b[0m \u001b[32m158.8/158.8 kB\u001b[0m \u001b[31m22.5 MB/s\u001b[0m eta \u001b[36m0:00:00\u001b[0m\n",
            "\u001b[?25hCollecting async-timeout<5.0,>=4.0.0a3\n",
            "  Downloading async_timeout-4.0.2-py3-none-any.whl (5.8 kB)\n",
            "Requirement already satisfied: typing-extensions>=3.7.4.3 in /usr/local/lib/python3.9/dist-packages (from huggingface-hub<1.0,>=0.11.0->transformers) (4.5.0)\n",
            "Requirement already satisfied: urllib3<1.27,>=1.21.1 in /usr/local/lib/python3.9/dist-packages (from requests->transformers) (1.26.15)\n",
            "Requirement already satisfied: idna<4,>=2.5 in /usr/local/lib/python3.9/dist-packages (from requests->transformers) (3.4)\n",
            "Requirement already satisfied: certifi>=2017.4.17 in /usr/local/lib/python3.9/dist-packages (from requests->transformers) (2022.12.7)\n",
            "Requirement already satisfied: python-dateutil>=2.8.1 in /usr/local/lib/python3.9/dist-packages (from pandas->datasets) (2.8.2)\n",
            "Requirement already satisfied: pytz>=2020.1 in /usr/local/lib/python3.9/dist-packages (from pandas->datasets) (2022.7.1)\n",
            "Requirement already satisfied: six>=1.5 in /usr/local/lib/python3.9/dist-packages (from python-dateutil>=2.8.1->pandas->datasets) (1.16.0)\n",
            "Installing collected packages: tokenizers, xxhash, multidict, frozenlist, dill, async-timeout, yarl, responses, multiprocess, huggingface-hub, aiosignal, transformers, aiohttp, datasets, evaluate\n",
            "Successfully installed aiohttp-3.8.4 aiosignal-1.3.1 async-timeout-4.0.2 datasets-2.11.0 dill-0.3.6 evaluate-0.4.0 frozenlist-1.3.3 huggingface-hub-0.13.4 multidict-6.0.4 multiprocess-0.70.14 responses-0.18.0 tokenizers-0.13.3 transformers-4.28.1 xxhash-3.2.0 yarl-1.8.2\n"
          ]
        }
      ]
    },
    {
      "cell_type": "markdown",
      "source": [
        "# BERT SQuAD 1.0 Model\n"
      ],
      "metadata": {
        "id": "INDjQ9ryv6CG"
      }
    },
    {
      "cell_type": "code",
      "execution_count": null,
      "metadata": {
        "colab": {
          "base_uri": "https://localhost:8080/"
        },
        "id": "oACxF6h-vsaq",
        "outputId": "12ccf02a-f469-4caf-805a-70342b75d0f8"
      },
      "outputs": [
        {
          "output_type": "stream",
          "name": "stderr",
          "text": [
            "Some weights of the model checkpoint at /content/drive/MyDrive/Natural language processing/bert_squad were not used when initializing BertForSequenceClassification: ['qa_outputs.bias', 'qa_outputs.weight']\n",
            "- This IS expected if you are initializing BertForSequenceClassification from the checkpoint of a model trained on another task or with another architecture (e.g. initializing a BertForSequenceClassification model from a BertForPreTraining model).\n",
            "- This IS NOT expected if you are initializing BertForSequenceClassification from the checkpoint of a model that you expect to be exactly identical (initializing a BertForSequenceClassification model from a BertForSequenceClassification model).\n",
            "Some weights of BertForSequenceClassification were not initialized from the model checkpoint at /content/drive/MyDrive/Natural language processing/bert_squad and are newly initialized: ['classifier.weight', 'classifier.bias', 'bert.pooler.dense.weight', 'bert.pooler.dense.bias']\n",
            "You should probably TRAIN this model on a down-stream task to be able to use it for predictions and inference.\n"
          ]
        }
      ],
      "source": [
        "from transformers import AutoTokenizer, AutoModelForSequenceClassification\n",
        "\n",
        "tokenizer = AutoTokenizer.from_pretrained('/content/drive/MyDrive/Natural language processing/bert_squad')\n",
        "model = AutoModelForSequenceClassification.from_pretrained('/content/drive/MyDrive/Natural language processing/bert_squad')"
      ]
    },
    {
      "cell_type": "code",
      "source": [
        "question1 = \"What are the symptoms of infecting covid?\"\n",
        "context1 = \"Cough (68%), fever/chills (58%), and shortness of breath (37%) reported most often. Median number of days from symptom onset to laboratory confirmed COVID-19 diagnosis was 4 days (range 0-26 days)\""
      ],
      "metadata": {
        "id": "LXSJ7xKPbirg"
      },
      "execution_count": null,
      "outputs": []
    },
    {
      "cell_type": "code",
      "source": [
        "from transformers import pipeline\n",
        "question_answerer = pipeline(\"question-answering\", model=\"/content/drive/MyDrive/Natural language processing/bert_squad\")\n",
        "\n",
        "answer1 = question_answerer(question=question1, context=context1)['answer']\n",
        "question_answerer(question=question1, context=context1)"
      ],
      "metadata": {
        "colab": {
          "base_uri": "https://localhost:8080/"
        },
        "id": "vDDYFxA4bito",
        "outputId": "e2bf8888-f752-4408-f203-3cd143112e54"
      },
      "execution_count": null,
      "outputs": [
        {
          "output_type": "execute_result",
          "data": {
            "text/plain": [
              "{'score': 0.3544738292694092,\n",
              " 'start': 0,\n",
              " 'end': 25,\n",
              " 'answer': 'Cough (68%), fever/chills'}"
            ]
          },
          "metadata": {},
          "execution_count": 17
        }
      ]
    },
    {
      "cell_type": "code",
      "source": [
        "question2 = \"What causes death from Covid-19?\"\n",
        "context2 = \"Since the end of 2019 the Coronavirus Disease 2019 (COVID-19), caused by severe acute respiratory syndrome coronavirus 2 (SARS-CoV-2), has spread globally affecting people worldwide. Patients with severe CO VID-19 require intensive care unit (ICU) admission for acute respiratory failure and over 10% need noninvasive and invasive mechanical ventilation.\"\n"
      ],
      "metadata": {
        "id": "2ewypmN7ByaO"
      },
      "execution_count": null,
      "outputs": []
    },
    {
      "cell_type": "code",
      "source": [
        "answer2 = question_answerer(question=question2, context=context2)['answer']\n",
        "question_answerer(question=question2, context=context2)"
      ],
      "metadata": {
        "colab": {
          "base_uri": "https://localhost:8080/"
        },
        "id": "QRK64MeXCH2e",
        "outputId": "4ab0a9ed-5a3f-4720-bae8-912b2f7867e0"
      },
      "execution_count": null,
      "outputs": [
        {
          "output_type": "execute_result",
          "data": {
            "text/plain": [
              "{'score': 0.3249039053916931,\n",
              " 'start': 73,\n",
              " 'end': 120,\n",
              " 'answer': 'severe acute respiratory syndrome coronavirus 2'}"
            ]
          },
          "metadata": {},
          "execution_count": 19
        }
      ]
    },
    {
      "cell_type": "code",
      "source": [
        "question3 = \"Where is the origin of covid?\"\n",
        "context3 = \"On December 31, 2019, the first case of what would later be known as SARS-CoV-2 was detected in the city of Wuhan, China. By January 10, 2022, more than 305 million people had been infected with COVID- 19, leading to more than 5.4 million deaths.\"\n"
      ],
      "metadata": {
        "id": "bZ1Lwzeo_S7M"
      },
      "execution_count": null,
      "outputs": []
    },
    {
      "cell_type": "code",
      "source": [
        "answer3 = question_answerer(question=question3, context=context3)['answer']\n",
        "question_answerer(question=question3, context=context3)"
      ],
      "metadata": {
        "colab": {
          "base_uri": "https://localhost:8080/"
        },
        "id": "BYecQApcAooV",
        "outputId": "643b512c-aa54-47c4-a49f-6d532b0c1c87"
      },
      "execution_count": null,
      "outputs": [
        {
          "output_type": "execute_result",
          "data": {
            "text/plain": [
              "{'score': 0.48505425453186035,\n",
              " 'start': 108,\n",
              " 'end': 120,\n",
              " 'answer': 'Wuhan, China'}"
            ]
          },
          "metadata": {},
          "execution_count": 21
        }
      ]
    },
    {
      "cell_type": "code",
      "source": [
        "question4 = \"What is the origin of covid?\"\n",
        "context4 = \"The coronavirus disease 2019 (COVID-19) is caused by a novel strain of SARS-CoV-2. More than 305 million people had been infected with the virus by January 10, 2022, leading to 5.4 million deaths.\"\n"
      ],
      "metadata": {
        "id": "zNLJxeQO0BQO"
      },
      "execution_count": null,
      "outputs": []
    },
    {
      "cell_type": "code",
      "source": [
        "answer4 = question_answerer(question=question4, context=context4)['answer']\n",
        "question_answerer(question=question4, context=context4)"
      ],
      "metadata": {
        "colab": {
          "base_uri": "https://localhost:8080/"
        },
        "outputId": "6e314b23-0639-4615-d651-4c15f8fd8c23",
        "id": "a4F8rJcc0BQP"
      },
      "execution_count": null,
      "outputs": [
        {
          "output_type": "execute_result",
          "data": {
            "text/plain": [
              "{'score': 0.08649849891662598, 'start': 71, 'end': 81, 'answer': 'SARS-CoV-2'}"
            ]
          },
          "metadata": {},
          "execution_count": 23
        }
      ]
    },
    {
      "cell_type": "code",
      "source": [
        "question5 = \"When was covid first discovered?\"\n",
        "context5 = \"In December 2019, a new coronavirus disease named COVID-19 by the World Health Organization broke out in Wuhan, China. There is currently no evidence to support that these drugs may be effective in discouraging Covid-19.\""
      ],
      "metadata": {
        "id": "dAaJyC9d-xBH"
      },
      "execution_count": null,
      "outputs": []
    },
    {
      "cell_type": "code",
      "source": [
        "answer5 = question_answerer(question=question5, context=context5)['answer']\n",
        "question_answerer(question=question5, context=context5)"
      ],
      "metadata": {
        "colab": {
          "base_uri": "https://localhost:8080/"
        },
        "id": "LDBBHEVK_Nu0",
        "outputId": "1130224a-cb3e-4fed-d95f-48ceed668e78"
      },
      "execution_count": null,
      "outputs": [
        {
          "output_type": "execute_result",
          "data": {
            "text/plain": [
              "{'score': 0.81943678855896, 'start': 3, 'end': 16, 'answer': 'December 2019'}"
            ]
          },
          "metadata": {},
          "execution_count": 25
        }
      ]
    },
    {
      "cell_type": "code",
      "source": [
        "ground_truth = ['Cough (68%), fever/chills (58%), and shortness of breath (37%)',\n",
        "                'severe acute respiratory syndrome',\n",
        "                'Wuhan, China',\n",
        "                'SARS-CoV-2',\n",
        "                'December 2019']"
      ],
      "metadata": {
        "id": "82X5qL1U0Ly3"
      },
      "execution_count": null,
      "outputs": []
    },
    {
      "cell_type": "code",
      "source": [
        "# Accuracy of BERT SQuAD 1.0 Model\n",
        "def Accuracy(answers, ground_truth):\n",
        "    count = 0\n",
        "    for i in range(len(ground_truth)):\n",
        "        if answers[i] == ground_truth[i]:\n",
        "            count += 1\n",
        "    accuracy = count/len(ground_truth) \n",
        "    return accuracy\n",
        "        \n",
        "\n",
        "BERT_SQuAD_v1 = [answer1, answer2, answer3, answer4, answer5]\n",
        "BERT_SQuAD_v1_accuracy = Accuracy(BERT_SQuAD_v1, ground_truth)\n",
        "print('BERT SQuAD 1.0 accuracy is: ', BERT_SQuAD_v1_accuracy)\n"
      ],
      "metadata": {
        "colab": {
          "base_uri": "https://localhost:8080/"
        },
        "id": "TwNMNjjAAz9w",
        "outputId": "b901f601-ab8b-4d82-d4b0-8345e45b15fc"
      },
      "execution_count": null,
      "outputs": [
        {
          "output_type": "stream",
          "name": "stdout",
          "text": [
            "BERT SQuAD 1.0 accuracy is:  0.6\n"
          ]
        }
      ]
    },
    {
      "cell_type": "markdown",
      "source": [
        "# BERT SQuAD 2.0 Model\n"
      ],
      "metadata": {
        "id": "9KGV7cA4CnIv"
      }
    },
    {
      "cell_type": "code",
      "execution_count": null,
      "metadata": {
        "colab": {
          "base_uri": "https://localhost:8080/"
        },
        "outputId": "3c6fff8f-6406-48e4-da57-749e1a554ce0",
        "id": "pUwRq25SCnIv"
      },
      "outputs": [
        {
          "output_type": "stream",
          "name": "stderr",
          "text": [
            "Some weights of the model checkpoint at /content/drive/MyDrive/Natural language processing/bert_squad_2.0 were not used when initializing BertForSequenceClassification: ['qa_outputs.bias', 'qa_outputs.weight']\n",
            "- This IS expected if you are initializing BertForSequenceClassification from the checkpoint of a model trained on another task or with another architecture (e.g. initializing a BertForSequenceClassification model from a BertForPreTraining model).\n",
            "- This IS NOT expected if you are initializing BertForSequenceClassification from the checkpoint of a model that you expect to be exactly identical (initializing a BertForSequenceClassification model from a BertForSequenceClassification model).\n",
            "Some weights of BertForSequenceClassification were not initialized from the model checkpoint at /content/drive/MyDrive/Natural language processing/bert_squad_2.0 and are newly initialized: ['classifier.weight', 'classifier.bias', 'bert.pooler.dense.weight', 'bert.pooler.dense.bias']\n",
            "You should probably TRAIN this model on a down-stream task to be able to use it for predictions and inference.\n"
          ]
        }
      ],
      "source": [
        "from transformers import AutoTokenizer, AutoModelForSequenceClassification\n",
        "\n",
        "tokenizer = AutoTokenizer.from_pretrained('/content/drive/MyDrive/Natural language processing/bert_squad_2.0')\n",
        "model = AutoModelForSequenceClassification.from_pretrained('/content/drive/MyDrive/Natural language processing/bert_squad_2.0')"
      ]
    },
    {
      "cell_type": "code",
      "source": [
        "question1 = \"What are the symptoms of infecting covid?\"\n",
        "context1 = \"Cough (68%), fever/chills (58%), and shortness of breath (37%) reported most often. Median number of days from symptom onset to laboratory confirmed COVID-19 diagnosis was 4 days (range 0-26 days)\""
      ],
      "metadata": {
        "id": "kGVN4U3MCnIv"
      },
      "execution_count": null,
      "outputs": []
    },
    {
      "cell_type": "code",
      "source": [
        "from transformers import pipeline\n",
        "question_answerer = pipeline(\"question-answering\", model=\"/content/drive/MyDrive/Natural language processing/bert_squad_2.0\")\n",
        "\n",
        "answer1 = question_answerer(question=question1, context=context1)['answer']\n",
        "question_answerer(question=question1, context=context1)"
      ],
      "metadata": {
        "colab": {
          "base_uri": "https://localhost:8080/"
        },
        "outputId": "23fcae13-6917-4fee-c958-44df9660e0d3",
        "id": "lIDXn_edCnIv"
      },
      "execution_count": null,
      "outputs": [
        {
          "output_type": "execute_result",
          "data": {
            "text/plain": [
              "{'score': 0.2413320541381836,\n",
              " 'start': 0,\n",
              " 'end': 25,\n",
              " 'answer': 'Cough (68%), fever/chills'}"
            ]
          },
          "metadata": {},
          "execution_count": 30
        }
      ]
    },
    {
      "cell_type": "code",
      "source": [
        "question2 = \"What causes death from Covid-19?\"\n",
        "context2 = \"Since the end of 2019 the Coronavirus Disease 2019 (COVID-19), caused by severe acute respiratory syndrome coronavirus 2 (SARS-CoV-2), has spread globally affecting people worldwide. Patients with severe CO VID-19 require intensive care unit (ICU) admission for acute respiratory failure and over 10% need noninvasive and invasive mechanical ventilation.\"\n"
      ],
      "metadata": {
        "id": "Lw4v539vCnIw"
      },
      "execution_count": null,
      "outputs": []
    },
    {
      "cell_type": "code",
      "source": [
        "answer2 = question_answerer(question=question2, context=context2)['answer']\n",
        "question_answerer(question=question2, context=context2)"
      ],
      "metadata": {
        "colab": {
          "base_uri": "https://localhost:8080/"
        },
        "outputId": "7fb5adaf-0b38-42fb-e7f2-fdc6b29e8276",
        "id": "I21GbD3oCnIw"
      },
      "execution_count": null,
      "outputs": [
        {
          "output_type": "execute_result",
          "data": {
            "text/plain": [
              "{'score': 0.2504980266094208,\n",
              " 'start': 73,\n",
              " 'end': 106,\n",
              " 'answer': 'severe acute respiratory syndrome'}"
            ]
          },
          "metadata": {},
          "execution_count": 32
        }
      ]
    },
    {
      "cell_type": "code",
      "source": [
        "question3 = \"Where is the origin of covid?\"\n",
        "context3 = \"On December 31, 2019, the first case of what would later be known as SARS-CoV-2 was detected in the city of Wuhan, China. By January 10, 2022, more than 305 million people had been infected with COVID- 19, leading to more than 5.4 million deaths.\"\n"
      ],
      "metadata": {
        "id": "m3-vNJ27CnIw"
      },
      "execution_count": null,
      "outputs": []
    },
    {
      "cell_type": "code",
      "source": [
        "answer3 = question_answerer(question=question3, context=context3)['answer']\n",
        "question_answerer(question=question3, context=context3)"
      ],
      "metadata": {
        "colab": {
          "base_uri": "https://localhost:8080/"
        },
        "outputId": "dac40f3b-b7f8-4fbf-c8bb-fcc88d073e65",
        "id": "SX6HkbakCnIw"
      },
      "execution_count": null,
      "outputs": [
        {
          "output_type": "execute_result",
          "data": {
            "text/plain": [
              "{'score': 0.6742015480995178,\n",
              " 'start': 108,\n",
              " 'end': 120,\n",
              " 'answer': 'Wuhan, China'}"
            ]
          },
          "metadata": {},
          "execution_count": 34
        }
      ]
    },
    {
      "cell_type": "code",
      "source": [
        "question4 = \"What is the origin of covid?\"\n",
        "context4 = \"The coronavirus disease 2019 (COVID-19) is caused by a novel strain of SARS-CoV-2. More than 305 million people had been infected with the virus by January 10, 2022, leading to 5.4 million deaths.\"\n"
      ],
      "metadata": {
        "id": "X-exd7m_CnIw"
      },
      "execution_count": null,
      "outputs": []
    },
    {
      "cell_type": "code",
      "source": [
        "answer4 = question_answerer(question=question4, context=context4)['answer']\n",
        "question_answerer(question=question4, context=context4)"
      ],
      "metadata": {
        "colab": {
          "base_uri": "https://localhost:8080/"
        },
        "outputId": "d396d0bb-fed1-4237-f3e7-d741f0f4550a",
        "id": "-EXpCLtLCnIx"
      },
      "execution_count": null,
      "outputs": [
        {
          "output_type": "execute_result",
          "data": {
            "text/plain": [
              "{'score': 0.20548632740974426, 'start': 71, 'end': 81, 'answer': 'SARS-CoV-2'}"
            ]
          },
          "metadata": {},
          "execution_count": 36
        }
      ]
    },
    {
      "cell_type": "code",
      "source": [
        "question5 = \"When was covid first discovered?\"\n",
        "context5 = \"In December 2019, a new coronavirus disease named COVID-19 by the World Health Organization broke out in Wuhan, China. There is currently no evidence to support that these drugs may be effective in discouraging Covid-19.\""
      ],
      "metadata": {
        "id": "HD25dGXFCnIx"
      },
      "execution_count": null,
      "outputs": []
    },
    {
      "cell_type": "code",
      "source": [
        "answer5 = question_answerer(question=question5, context=context5)['answer']\n",
        "question_answerer(question=question5, context=context5)"
      ],
      "metadata": {
        "colab": {
          "base_uri": "https://localhost:8080/"
        },
        "outputId": "fe7d910a-0225-4007-e06f-e14f8a4a2972",
        "id": "cqm7wu_fCnIx"
      },
      "execution_count": null,
      "outputs": [
        {
          "output_type": "execute_result",
          "data": {
            "text/plain": [
              "{'score': 0.35809004306793213,\n",
              " 'start': 3,\n",
              " 'end': 16,\n",
              " 'answer': 'December 2019'}"
            ]
          },
          "metadata": {},
          "execution_count": 38
        }
      ]
    },
    {
      "cell_type": "code",
      "source": [
        "# Accuracy of BERT SQuAD 2.0 Model\n",
        "BERT_SQuAD_v2 = [answer1, answer2, answer3, answer4, answer5]\n",
        "BERT_SQuAD_v2_accuracy = Accuracy(BERT_SQuAD_v2, ground_truth)\n",
        "print('BERT SQuAD 2.0 accuracy is: ', BERT_SQuAD_v2_accuracy)\n"
      ],
      "metadata": {
        "colab": {
          "base_uri": "https://localhost:8080/"
        },
        "outputId": "35f35b92-26f9-41bc-f1f2-6ab32e80e51e",
        "id": "HbJu7OJaCnIx"
      },
      "execution_count": null,
      "outputs": [
        {
          "output_type": "stream",
          "name": "stdout",
          "text": [
            "BERT SQuAD 2.0 accuracy is:  0.8\n"
          ]
        }
      ]
    },
    {
      "cell_type": "markdown",
      "source": [
        "# DistilBERT SQuAD 1.0 Model\n"
      ],
      "metadata": {
        "id": "sduhCf3vDHJ-"
      }
    },
    {
      "cell_type": "code",
      "execution_count": null,
      "metadata": {
        "colab": {
          "base_uri": "https://localhost:8080/"
        },
        "outputId": "68067544-f3b6-4be1-c5f0-42ae59491917",
        "id": "UrIMXyBIDHJ-"
      },
      "outputs": [
        {
          "output_type": "stream",
          "name": "stderr",
          "text": [
            "Some weights of the model checkpoint at /content/drive/MyDrive/Natural language processing/distilbert_squad1.0 were not used when initializing DistilBertForSequenceClassification: ['qa_outputs.bias', 'qa_outputs.weight']\n",
            "- This IS expected if you are initializing DistilBertForSequenceClassification from the checkpoint of a model trained on another task or with another architecture (e.g. initializing a BertForSequenceClassification model from a BertForPreTraining model).\n",
            "- This IS NOT expected if you are initializing DistilBertForSequenceClassification from the checkpoint of a model that you expect to be exactly identical (initializing a BertForSequenceClassification model from a BertForSequenceClassification model).\n",
            "Some weights of DistilBertForSequenceClassification were not initialized from the model checkpoint at /content/drive/MyDrive/Natural language processing/distilbert_squad1.0 and are newly initialized: ['pre_classifier.bias', 'classifier.bias', 'classifier.weight', 'pre_classifier.weight']\n",
            "You should probably TRAIN this model on a down-stream task to be able to use it for predictions and inference.\n"
          ]
        }
      ],
      "source": [
        "from transformers import AutoTokenizer, AutoModelForSequenceClassification\n",
        "\n",
        "tokenizer = AutoTokenizer.from_pretrained('/content/drive/MyDrive/Natural language processing/distilbert_squad1.0')\n",
        "model = AutoModelForSequenceClassification.from_pretrained('/content/drive/MyDrive/Natural language processing/distilbert_squad1.0')"
      ]
    },
    {
      "cell_type": "code",
      "source": [
        "question1 = \"What are the symptoms of infecting covid?\"\n",
        "context1 = \"Cough (68%), fever/chills (58%), and shortness of breath (37%) reported most often. Median number of days from symptom onset to laboratory confirmed COVID-19 diagnosis was 4 days (range 0-26 days)\""
      ],
      "metadata": {
        "id": "Yp4LWYrKDHJ_"
      },
      "execution_count": null,
      "outputs": []
    },
    {
      "cell_type": "code",
      "source": [
        "from transformers import pipeline\n",
        "question_answerer = pipeline(\"question-answering\", model=\"/content/drive/MyDrive/Natural language processing/distilbert_squad1.0\")\n",
        "\n",
        "answer1 = question_answerer(question=question1, context=context1)['answer']\n",
        "question_answerer(question=question1, context=context1)"
      ],
      "metadata": {
        "colab": {
          "base_uri": "https://localhost:8080/"
        },
        "outputId": "f2149d82-db82-4bf6-deee-9d20bd904d6f",
        "id": "K7h6AKjaDHJ_"
      },
      "execution_count": null,
      "outputs": [
        {
          "output_type": "execute_result",
          "data": {
            "text/plain": [
              "{'score': 0.2719007134437561,\n",
              " 'start': 0,\n",
              " 'end': 25,\n",
              " 'answer': 'Cough (68%), fever/chills'}"
            ]
          },
          "metadata": {},
          "execution_count": 66
        }
      ]
    },
    {
      "cell_type": "code",
      "source": [
        "question2 = \"What causes death from Covid-19?\"\n",
        "context2 = \"Since the end of 2019 the Coronavirus Disease 2019 (COVID-19), caused by severe acute respiratory syndrome coronavirus 2 (SARS-CoV-2), has spread globally affecting people worldwide. Patients with severe CO VID-19 require intensive care unit (ICU) admission for acute respiratory failure and over 10% need noninvasive and invasive mechanical ventilation.\"\n"
      ],
      "metadata": {
        "id": "E7eE3F_fDHJ_"
      },
      "execution_count": null,
      "outputs": []
    },
    {
      "cell_type": "code",
      "source": [
        "answer2 = question_answerer(question=question2, context=context2)['answer']\n",
        "question_answerer(question=question2, context=context2)"
      ],
      "metadata": {
        "colab": {
          "base_uri": "https://localhost:8080/"
        },
        "outputId": "9fad6f3f-0a7e-48a9-f1f6-e670739a5c66",
        "id": "r1ey7ULlDHJ_"
      },
      "execution_count": null,
      "outputs": [
        {
          "output_type": "execute_result",
          "data": {
            "text/plain": [
              "{'score': 0.19038665294647217,\n",
              " 'start': 73,\n",
              " 'end': 106,\n",
              " 'answer': 'severe acute respiratory syndrome'}"
            ]
          },
          "metadata": {},
          "execution_count": 68
        }
      ]
    },
    {
      "cell_type": "code",
      "source": [
        "question3 = \"Where is the origin of covid?\"\n",
        "context3 = \"On December 31, 2019, the first case of what would later be known as SARS-CoV-2 was detected in the city of Wuhan, China. By January 10, 2022, more than 305 million people had been infected with COVID- 19, leading to more than 5.4 million deaths.\"\n"
      ],
      "metadata": {
        "id": "WIp4pV9kDHJ_"
      },
      "execution_count": null,
      "outputs": []
    },
    {
      "cell_type": "code",
      "source": [
        "answer3 = question_answerer(question=question3, context=context3)['answer']\n",
        "question_answerer(question=question3, context=context3)"
      ],
      "metadata": {
        "colab": {
          "base_uri": "https://localhost:8080/"
        },
        "outputId": "88cc3bb7-d242-490c-8130-02256bce38c4",
        "id": "AveYpCXYDHJ_"
      },
      "execution_count": null,
      "outputs": [
        {
          "output_type": "execute_result",
          "data": {
            "text/plain": [
              "{'score': 0.5194088220596313, 'start': 108, 'end': 113, 'answer': 'Wuhan'}"
            ]
          },
          "metadata": {},
          "execution_count": 70
        }
      ]
    },
    {
      "cell_type": "code",
      "source": [
        "question4 = \"What is the origin of covid?\"\n",
        "context4 = \"The coronavirus disease 2019 (COVID-19) is caused by a novel strain of SARS-CoV-2. More than 305 million people had been infected with the virus by January 10, 2022, leading to 5.4 million deaths.\"\n"
      ],
      "metadata": {
        "id": "7vyORsuvDHJ_"
      },
      "execution_count": null,
      "outputs": []
    },
    {
      "cell_type": "code",
      "source": [
        "answer4 = question_answerer(question=question4, context=context4)['answer']\n",
        "question_answerer(question=question4, context=context4)"
      ],
      "metadata": {
        "colab": {
          "base_uri": "https://localhost:8080/"
        },
        "outputId": "752d2c05-897e-40c7-d2b7-0ac856ab0a6e",
        "id": "htnhpJiXDHKA"
      },
      "execution_count": null,
      "outputs": [
        {
          "output_type": "execute_result",
          "data": {
            "text/plain": [
              "{'score': 0.196075439453125,\n",
              " 'start': 4,\n",
              " 'end': 28,\n",
              " 'answer': 'coronavirus disease 2019'}"
            ]
          },
          "metadata": {},
          "execution_count": 72
        }
      ]
    },
    {
      "cell_type": "code",
      "source": [
        "question5 = \"When was covid first discovered?\"\n",
        "context5 = \"In December 2019, a new coronavirus disease named COVID-19 by the World Health Organization broke out in Wuhan, China. There is currently no evidence to support that these drugs may be effective in discouraging Covid-19.\""
      ],
      "metadata": {
        "id": "iXhdnB3vDHKA"
      },
      "execution_count": null,
      "outputs": []
    },
    {
      "cell_type": "code",
      "source": [
        "answer5 = question_answerer(question=question5, context=context5)['answer']\n",
        "question_answerer(question=question5, context=context5)"
      ],
      "metadata": {
        "colab": {
          "base_uri": "https://localhost:8080/"
        },
        "outputId": "b0ff0a67-6211-4604-93de-de0557fcc52e",
        "id": "mhDffZp9DHKA"
      },
      "execution_count": null,
      "outputs": [
        {
          "output_type": "execute_result",
          "data": {
            "text/plain": [
              "{'score': 0.8188865780830383, 'start': 3, 'end': 16, 'answer': 'December 2019'}"
            ]
          },
          "metadata": {},
          "execution_count": 74
        }
      ]
    },
    {
      "cell_type": "code",
      "source": [
        "# Accuracy of DistilBERT SQuAD 1.0 Model\n",
        "DistilBERT_SQuAD_v1 = [answer1, answer2, answer3, answer4, answer5]\n",
        "DistilBERT_SQuAD_v1_accuracy = Accuracy(DistilBERT_SQuAD_v1, ground_truth)\n",
        "print('DistilBERT SQuAD 1.0 accuracy is: ', DistilBERT_SQuAD_v1_accuracy)\n"
      ],
      "metadata": {
        "colab": {
          "base_uri": "https://localhost:8080/"
        },
        "outputId": "416d3ed8-3e0d-4dd8-f56e-17c4f716bd5e",
        "id": "i-gkJbe2DHKA"
      },
      "execution_count": null,
      "outputs": [
        {
          "output_type": "stream",
          "name": "stdout",
          "text": [
            "DistilBERT SQuAD 1.0 accuracy is:  0.4\n"
          ]
        }
      ]
    },
    {
      "cell_type": "markdown",
      "source": [
        "# DistilBERT SQuAD 2.0 Model\n"
      ],
      "metadata": {
        "id": "6eoXZbv-OhhZ"
      }
    },
    {
      "cell_type": "code",
      "execution_count": null,
      "metadata": {
        "colab": {
          "base_uri": "https://localhost:8080/"
        },
        "outputId": "12f2fe56-5849-43f4-9171-99249043016c",
        "id": "Ms0M7MowOhhZ"
      },
      "outputs": [
        {
          "output_type": "stream",
          "name": "stderr",
          "text": [
            "Some weights of the model checkpoint at /content/drive/MyDrive/Natural language processing/DistilBERT_SQuAD_2.0 were not used when initializing DistilBertForSequenceClassification: ['qa_outputs.bias', 'qa_outputs.weight']\n",
            "- This IS expected if you are initializing DistilBertForSequenceClassification from the checkpoint of a model trained on another task or with another architecture (e.g. initializing a BertForSequenceClassification model from a BertForPreTraining model).\n",
            "- This IS NOT expected if you are initializing DistilBertForSequenceClassification from the checkpoint of a model that you expect to be exactly identical (initializing a BertForSequenceClassification model from a BertForSequenceClassification model).\n",
            "Some weights of DistilBertForSequenceClassification were not initialized from the model checkpoint at /content/drive/MyDrive/Natural language processing/DistilBERT_SQuAD_2.0 and are newly initialized: ['pre_classifier.bias', 'classifier.bias', 'classifier.weight', 'pre_classifier.weight']\n",
            "You should probably TRAIN this model on a down-stream task to be able to use it for predictions and inference.\n"
          ]
        }
      ],
      "source": [
        "from transformers import AutoTokenizer, AutoModelForSequenceClassification\n",
        "\n",
        "tokenizer = AutoTokenizer.from_pretrained('/content/drive/MyDrive/Natural language processing/DistilBERT_SQuAD_2.0')\n",
        "model = AutoModelForSequenceClassification.from_pretrained('/content/drive/MyDrive/Natural language processing/DistilBERT_SQuAD_2.0')"
      ]
    },
    {
      "cell_type": "code",
      "source": [
        "question1 = \"What are the symptoms of infecting covid?\"\n",
        "context1 = \"Cough (68%), fever/chills (58%), and shortness of breath (37%) reported most often. Median number of days from symptom onset to laboratory confirmed COVID-19 diagnosis was 4 days (range 0-26 days)\""
      ],
      "metadata": {
        "id": "_-PvKXA1Ohha"
      },
      "execution_count": null,
      "outputs": []
    },
    {
      "cell_type": "code",
      "source": [
        "from transformers import pipeline\n",
        "question_answerer = pipeline(\"question-answering\", model=\"/content/drive/MyDrive/Natural language processing/DistilBERT_SQuAD_2.0\")\n",
        "\n",
        "answer1 = question_answerer(question=question1, context=context1)['answer']\n",
        "question_answerer(question=question1, context=context1)"
      ],
      "metadata": {
        "colab": {
          "base_uri": "https://localhost:8080/"
        },
        "outputId": "50259ac0-1597-462e-c684-b355b19f6f6f",
        "id": "fzK6JM97Ohha"
      },
      "execution_count": null,
      "outputs": [
        {
          "output_type": "execute_result",
          "data": {
            "text/plain": [
              "{'score': 0.17433443665504456, 'start': 0, 'end': 5, 'answer': 'Cough'}"
            ]
          },
          "metadata": {},
          "execution_count": 54
        }
      ]
    },
    {
      "cell_type": "code",
      "source": [
        "question2 = \"What causes death from Covid-19?\"\n",
        "context2 = \"Since the end of 2019 the Coronavirus Disease 2019 (COVID-19), caused by severe acute respiratory syndrome coronavirus 2 (SARS-CoV-2), has spread globally affecting people worldwide. Patients with severe CO VID-19 require intensive care unit (ICU) admission for acute respiratory failure and over 10% need noninvasive and invasive mechanical ventilation.\"\n"
      ],
      "metadata": {
        "id": "f-lInSHoOhha"
      },
      "execution_count": null,
      "outputs": []
    },
    {
      "cell_type": "code",
      "source": [
        "answer2 = question_answerer(question=question2, context=context2)['answer']\n",
        "question_answerer(question=question2, context=context2)"
      ],
      "metadata": {
        "colab": {
          "base_uri": "https://localhost:8080/"
        },
        "outputId": "98b7a74f-e6c8-4652-a916-20a15789dfa7",
        "id": "AsJjKkCqOhha"
      },
      "execution_count": null,
      "outputs": [
        {
          "output_type": "execute_result",
          "data": {
            "text/plain": [
              "{'score': 0.12134205549955368,\n",
              " 'start': 73,\n",
              " 'end': 106,\n",
              " 'answer': 'severe acute respiratory syndrome'}"
            ]
          },
          "metadata": {},
          "execution_count": 56
        }
      ]
    },
    {
      "cell_type": "code",
      "source": [
        "question3 = \"Where is the origin of covid?\"\n",
        "context3 = \"On December 31, 2019, the first case of what would later be known as SARS-CoV-2 was detected in the city of Wuhan, China. By January 10, 2022, more than 305 million people had been infected with COVID- 19, leading to more than 5.4 million deaths.\"\n"
      ],
      "metadata": {
        "id": "r1GirA-oOhha"
      },
      "execution_count": null,
      "outputs": []
    },
    {
      "cell_type": "code",
      "source": [
        "answer3 = question_answerer(question=question3, context=context3)['answer']\n",
        "question_answerer(question=question3, context=context3)"
      ],
      "metadata": {
        "colab": {
          "base_uri": "https://localhost:8080/"
        },
        "outputId": "3ceba897-6c50-477b-dece-8c14d7e03c3d",
        "id": "DqCSXm1HOhha"
      },
      "execution_count": null,
      "outputs": [
        {
          "output_type": "execute_result",
          "data": {
            "text/plain": [
              "{'score': 0.37993186712265015, 'start': 108, 'end': 113, 'answer': 'Wuhan'}"
            ]
          },
          "metadata": {},
          "execution_count": 58
        }
      ]
    },
    {
      "cell_type": "code",
      "source": [
        "question4 = \"What is the origin of covid?\"\n",
        "context4 = \"The coronavirus disease 2019 (COVID-19) is caused by a novel strain of SARS-CoV-2. More than 305 million people had been infected with the virus by January 10, 2022, leading to 5.4 million deaths.\"\n"
      ],
      "metadata": {
        "id": "iRIV79RZOhha"
      },
      "execution_count": null,
      "outputs": []
    },
    {
      "cell_type": "code",
      "source": [
        "answer4 = question_answerer(question=question4, context=context4)['answer']\n",
        "question_answerer(question=question4, context=context4)"
      ],
      "metadata": {
        "colab": {
          "base_uri": "https://localhost:8080/"
        },
        "outputId": "04c90cfb-5da7-4f0f-87e1-84277df3106c",
        "id": "pcsYrcmnOhhb"
      },
      "execution_count": null,
      "outputs": [
        {
          "output_type": "execute_result",
          "data": {
            "text/plain": [
              "{'score': 0.1552591174840927,\n",
              " 'start': 4,\n",
              " 'end': 28,\n",
              " 'answer': 'coronavirus disease 2019'}"
            ]
          },
          "metadata": {},
          "execution_count": 60
        }
      ]
    },
    {
      "cell_type": "code",
      "source": [
        "question5 = \"When was covid first discovered?\"\n",
        "context5 = \"In December 2019, a new coronavirus disease named COVID-19 by the World Health Organization broke out in Wuhan, China. There is currently no evidence to support that these drugs may be effective in discouraging Covid-19.\""
      ],
      "metadata": {
        "id": "AdVQ-r4KOhhb"
      },
      "execution_count": null,
      "outputs": []
    },
    {
      "cell_type": "code",
      "source": [
        "answer5 = question_answerer(question=question5, context=context5)['answer']\n",
        "question_answerer(question=question5, context=context5)"
      ],
      "metadata": {
        "colab": {
          "base_uri": "https://localhost:8080/"
        },
        "outputId": "59175462-15c4-4114-d7c1-5dd199068080",
        "id": "bXW81IleOhhb"
      },
      "execution_count": null,
      "outputs": [
        {
          "output_type": "execute_result",
          "data": {
            "text/plain": [
              "{'score': 0.709756076335907, 'start': 3, 'end': 16, 'answer': 'December 2019'}"
            ]
          },
          "metadata": {},
          "execution_count": 62
        }
      ]
    },
    {
      "cell_type": "code",
      "source": [
        "# Accuracy of DistilBERT SQuAD 2.0 Model\n",
        "DistilBERT_SQuAD_v2 = [answer1, answer2, answer3, answer4, answer5]\n",
        "DistilBERT_SQuAD_v2_accuracy = Accuracy(DistilBERT_SQuAD_v2, ground_truth)\n",
        "print('DistilBERT SQuAD 2.0 accuracy is: ', DistilBERT_SQuAD_v2_accuracy)\n"
      ],
      "metadata": {
        "colab": {
          "base_uri": "https://localhost:8080/"
        },
        "outputId": "7e3c5e91-32f3-4b58-9ace-6cc477e13c19",
        "id": "pVVdb1hOOhhb"
      },
      "execution_count": null,
      "outputs": [
        {
          "output_type": "stream",
          "name": "stdout",
          "text": [
            "DistilBERT SQuAD 2.0 accuracy is:  0.4\n"
          ]
        }
      ]
    },
    {
      "cell_type": "code",
      "source": [
        "# Plot the accuracy of BERT models\n",
        "import matplotlib.pyplot as plt\n",
        "\n",
        "# Data for the bar chart\n",
        "categories = ['BERT \\n SQuAD 1.0', 'BERT \\n SQuAD 2.0', 'DistilBERT \\n SQuAD 1.0', 'DistilBERT \\n SQuAD 2.0']\n",
        "accuracy = [BERT_SQuAD_v1_accuracy, BERT_SQuAD_v2_accuracy, DistilBERT_SQuAD_v1_accuracy, DistilBERT_SQuAD_v2_accuracy]\n",
        "\n",
        "# Plotting the bar chart\n",
        "plt.bar(categories, accuracy)\n",
        "\n",
        "# Adding title and labels to the chart\n",
        "plt.title('Accuracy of BERT models among 5 queries')\n",
        "plt.xlabel('BERT Models')\n",
        "plt.ylabel('Accuracy')\n",
        "\n",
        "# Displaying the chart\n",
        "plt.show()\n"
      ],
      "metadata": {
        "colab": {
          "base_uri": "https://localhost:8080/",
          "height": 488
        },
        "id": "7ubDnvktCnIx",
        "outputId": "99526e45-0c5f-4254-a677-359da6031fec"
      },
      "execution_count": null,
      "outputs": [
        {
          "output_type": "display_data",
          "data": {
            "text/plain": [
              "<Figure size 640x480 with 1 Axes>"
            ],
            "image/png": "[encoded data removed]"
          },
          "metadata": {}
        }
      ]
    },
    {
      "cell_type": "code",
      "source": [
        "# Plot the execution time of BERT models\n",
        "import matplotlib.pyplot as plt\n",
        "\n",
        "# Data for the bar chart\n",
        "categories = ['BERT \\n SQuAD 1.0', 'BERT \\n SQuAD 2.0', 'DistilBERT \\n SQuAD 1.0', 'DistilBERT \\n SQuAD 2.0']\n",
        "execution_time = [51.03, 53.18, 30.77, 36.95]\n",
        "\n",
        "# Plotting the bar chart\n",
        "plt.bar(categories, execution_time)\n",
        "\n",
        "# Adding title and labels to the chart\n",
        "plt.title('Fine-tuning execution time of BERT models')\n",
        "plt.xlabel('BERT Models')\n",
        "plt.ylabel('Execution time (mins)')\n",
        "\n",
        "# Displaying the chart\n",
        "plt.show()\n"
      ],
      "metadata": {
        "colab": {
          "base_uri": "https://localhost:8080/",
          "height": 488
        },
        "id": "bJxA34fORfkr",
        "outputId": "3ea7cafc-c591-44d8-e464-d3168c0ecb41"
      },
      "execution_count": null,
      "outputs": [
        {
          "output_type": "display_data",
          "data": {
            "text/plain": [
              "<Figure size 640x480 with 1 Axes>"
            ],
            "image/png": "[encoded data removed]"
          },
          "metadata": {}
        }
      ]
    },
    {
      "cell_type": "code",
      "source": [],
      "metadata": {
        "id": "PgHu03wzWhhX"
      },
      "execution_count": null,
      "outputs": []
    }
  ]
}