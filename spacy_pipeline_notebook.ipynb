{
 "cells": [
  {
   "cell_type": "code",
   "execution_count": 1,
   "metadata": {},
   "outputs": [
    {
     "name": "stderr",
     "output_type": "stream",
     "text": [
      "/Users/fuchuenli/opt/anaconda3/envs/NLP/lib/python3.9/site-packages/spacy/util.py:865: UserWarning: [W095] Model 'en_core_sci_sm' (0.5.1) was trained with spaCy v3.4 and may not be 100% compatible with the current version (3.4.0). If you see errors or degraded performance, download a newer compatible model or retrain your custom model with the current spaCy version. For more details and available updates, run: python -m spacy validate\n",
      "  warnings.warn(warn_msg)\n"
     ]
    },
    {
     "name": "stdout",
     "output_type": "stream",
     "text": [
      "Pipeline components included:  ['tok2vec', 'tagger', 'attribute_ruler', 'lemmatizer', 'parser', 'ner', 'merge_noun_chunks', 'merge_entities']\n"
     ]
    },
    {
     "name": "stderr",
     "output_type": "stream",
     "text": [
      "100%|██████████| 9786/9786 [2:43:46<00:00,  1.00s/it]  \n"
     ]
    }
   ],
   "source": [
    "# import library\n",
    "import pandas as pd\n",
    "import re\n",
    "import spacy\n",
    "import nltk\n",
    "from tqdm import tqdm\n",
    "\n",
    "#Load the dataset\n",
    "dataset = pd.read_csv(\"/Users/fuchuenli/Desktop/Data Science /Year 2/Trimester 1/COMP SCI 7417/Week 9/Assignemt 3/Corpus_10k.csv\")\n",
    "too_long = [index for index, text in enumerate(dataset[\"corpus\"]) if type(text) != str or len(text) < 100 or len(text) > 100000]\n",
    "dataset = dataset.loc[~dataset.index.isin(too_long)].reset_index(drop=True)\n",
    "\n",
    "# Data cleaning\n",
    "def data_cleaning(corpus):\n",
    "    pattern = r\"\\[\\d+(,\\s*\\d+)*\\]|\\(([A-Za-z]+( [A-Za-z]+)+)\\., [0-9]+\\)|http://\\S+|www.\\S+|[^\\x00-\\x7F]+\"\n",
    "    clean_corpus = re.sub(pattern, \"\", corpus)\n",
    "    return clean_corpus\n",
    "dataset[\"corpus\"] = dataset[\"corpus\"].apply(lambda x: data_cleaning(x))\n",
    "\n",
    "# Load the coreferenced corpus\n",
    "for index in range(len(dataset)):\n",
    "    with open(f\"/Users/fuchuenli/Desktop/Data Science /Year 2/Trimester 1/COMP SCI 7417/Week 9/Assignemt 3/Coreference_10k/corpus_coref_{index}.txt\", \"r\") as f:\n",
    "        dataset[\"corpus\"][index] = f.read()\n",
    "# A function to the corpus paragraphs by graphs\n",
    "def paragraph_tokenize(text):\n",
    "    return nltk.tokenize.blankline_tokenize(text)\n",
    "dataset[\"corpus\"] = dataset[\"corpus\"].apply(lambda x: paragraph_tokenize(x))\n",
    "\n",
    "corpus = dataset[\"corpus\"].tolist()\n",
    "\n",
    "# Spacy pipeline\n",
    "nlp = spacy.load(\"en_core_sci_sm\")\n",
    "nlp.add_pipe(\"merge_noun_chunks\")\n",
    "nlp.add_pipe(\"merge_entities\")\n",
    "print('Pipeline components included: ', nlp.pipe_names)\n",
    "# Pass the corpus to spacy pipeline\n",
    "for article_index in tqdm(range(len(corpus))):\n",
    "    for fragment_index in range(len(corpus[article_index])):\n",
    "        corpus[article_index][fragment_index] = nlp(corpus[article_index][fragment_index])"
   ]
  },
  {
   "cell_type": "code",
   "execution_count": 3,
   "metadata": {},
   "outputs": [],
   "source": [
    "# Export the processed corpus \n",
    "import pickle\n",
    "with open('corpus_pickle_10k_paragraph', 'wb') as f:\n",
    "    pickle.dump(corpus, f)"
   ]
  }
 ],
 "metadata": {
  "kernelspec": {
   "display_name": "pytorch",
   "language": "python",
   "name": "python3"
  },
  "language_info": {
   "codemirror_mode": {
    "name": "ipython",
    "version": 3
   },
   "file_extension": ".py",
   "mimetype": "text/x-python",
   "name": "python",
   "nbconvert_exporter": "python",
   "pygments_lexer": "ipython3",
   "version": "3.9.12"
  },
  "orig_nbformat": 4
 },
 "nbformat": 4,
 "nbformat_minor": 2
}
